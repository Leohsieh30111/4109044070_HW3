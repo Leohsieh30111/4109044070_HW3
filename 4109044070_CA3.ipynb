{
  "nbformat": 4,
  "nbformat_minor": 0,
  "metadata": {
    "colab": {
      "provenance": []
    },
    "kernelspec": {
      "name": "python3",
      "display_name": "Python 3"
    },
    "language_info": {
      "name": "python"
    }
  },
  "cells": [
    {
      "cell_type": "code",
      "execution_count": 9,
      "metadata": {
        "colab": {
          "base_uri": "https://localhost:8080/"
        },
        "id": "rHa0WNJ9Jc4I",
        "outputId": "a7ae3dcf-0103-4d17-e298-ab68476159eb"
      },
      "outputs": [
        {
          "output_type": "stream",
          "name": "stdout",
          "text": [
            "檔案內容： 4109044070＿謝牧軒\n",
            "\n",
            "檔案資訊： os.stat_result(st_mode=33188, st_ino=6553664, st_dev=52, st_nlink=1, st_uid=0, st_gid=0, st_size=23, st_atime=1695291222, st_mtime=1695291222, st_ctime=1695291222)\n"
          ]
        }
      ],
      "source": [
        "import os\n",
        "\n",
        "if not os.path.exists('CS'):\n",
        "    os.mkdir('CS')\n",
        "\n",
        "if not os.path.exists('homework'):\n",
        "    os.mkdir('homework')\n",
        "\n",
        "with open('homework/homework.txt', 'w') as file:\n",
        "    file.write('4109044070＿謝牧軒\\n')\n",
        "\n",
        "with open('homework/homework.txt', 'r') as file:\n",
        "    content = file.read()\n",
        "    print('檔案內容：', content)\n",
        "\n",
        "file_info = os.stat('homework/homework.txt')\n",
        "print('檔案資訊：', file_info)\n",
        "\n",
        "os.remove('homework/homework.txt')\n",
        "\n",
        "os.rmdir('CS')\n",
        "\n",
        "os.rmdir('homework')\n"
      ]
    }
  ]
}